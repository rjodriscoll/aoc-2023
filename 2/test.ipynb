{
 "cells": [
  {
   "cell_type": "code",
   "execution_count": 26,
   "metadata": {},
   "outputs": [
    {
     "data": {
      "text/plain": [
       "100-element Vector{String}:\n",
       " \"Game 1: 10 green, 9 blue, 1 red\" ⋯ 21 bytes ⋯ \"green, 6 blue; 8 blue, 12 green\"\n",
       " \"Game 2: 11 red, 7 green, 3 blue\" ⋯ 43 bytes ⋯ \"1 blue; 10 green, 5 blue, 7 red\"\n",
       " \"Game 3: 2 red, 7 green, 1 blue;\" ⋯ 59 bytes ⋯ \"18 red; 10 red, 6 blue, 4 green\"\n",
       " \"Game 4: 2 blue, 5 green, 2 red;\" ⋯ 17 bytes ⋯ \"3 blue, 2 red; 16 green, 2 blue\"\n",
       " \"Game 5: 1 blue, 9 red; 5 blue, \" ⋯ 81 bytes ⋯ \" 6 blue; 4 green, 8 red, 7 blue\"\n",
       " \"Game 6: 1 red, 2 green; 2 red, \" ⋯ 40 bytes ⋯ \" 2 green, 3 red; 1 red, 6 green\"\n",
       " \"Game 7: 9 blue, 14 green, 5 red\" ⋯ 36 bytes ⋯ \" 1 red; 4 blue, 17 green, 4 red\"\n",
       " \"Game 8: 16 blue, 16 green, 8 re\" ⋯ 49 bytes ⋯ \" red; 10 red, 13 green, 13 blue\"\n",
       " \"Game 9: 8 blue, 10 green, 4 red\" ⋯ 89 bytes ⋯ \" blue; 16 green, 13 red, 7 blue\"\n",
       " \"Game 10: 5 green, 2 red, 13 blu\" ⋯ 62 bytes ⋯ \"14 red; 3 red, 4 green, 17 blue\"\n",
       " ⋮\n",
       " \"Game 92: 3 green, 1 blue; 8 red, 5 green; 10 red, 3 green\"\n",
       " \"Game 93: 5 green, 1 blue, 5 red\" ⋯ 57 bytes ⋯ \", 1 blue, 2 red; 6 red, 1 green\"\n",
       " \"Game 94: 3 red, 6 blue, 2 green\" ⋯ 74 bytes ⋯ \"13 blue; 6 blue, 2 green, 8 red\"\n",
       " \"Game 95: 4 red, 3 green, 17 blu\" ⋯ 63 bytes ⋯ \" blue; 11 blue, 2 green, 17 red\"\n",
       " \"Game 96: 3 red, 20 blue, 18 gre\" ⋯ 21 bytes ⋯ \" green; 18 blue, 4 green, 8 red\"\n",
       " \"Game 97: 11 green; 7 red, 8 gre\" ⋯ 38 bytes ⋯ \"7 red; 14 green, 18 red, 2 blue\"\n",
       " \"Game 98: 2 blue, 7 green, 1 red\" ⋯ 70 bytes ⋯ \"12 blue; 5 blue, 4 green, 2 red\"\n",
       " \"Game 99: 2 blue, 13 green; 1 blue; 1 red, 2 blue, 2 green; 1 red, 1 blue\"\n",
       " \"Game 100: 1 red, 14 green; 17 g\" ⋯ 55 bytes ⋯ \"3 blue; 5 green, 11 red, 5 blue\""
      ]
     },
     "metadata": {},
     "output_type": "display_data"
    }
   ],
   "source": []
  },
  {
   "cell_type": "code",
   "execution_count": 35,
   "metadata": {},
   "outputs": [
    {
     "name": "stdout",
     "output_type": "stream",
     "text": [
      "2239\n",
      "83435\n"
     ]
    }
   ],
   "source": [
    "include(\"../utils.jl\")\n",
    "using  Base: match\n",
    "t = read_text(\"data.txt\")\n",
    "\n",
    "game_pattern = r\"Game (\\d+)\"\n",
    "red_pattern = r\"(\\d+) red\"\n",
    "green_pattern = r\"(\\d+) green\"\n",
    "blue_pattern = r\"(\\d+) blue\"\n",
    "\n",
    "\n",
    "total_power = 0 \n",
    "game_sum = 0\n",
    "for s in t\n",
    "    game_id = parse(Int, match(game_pattern, s)[1])\n",
    "    red_max = find_max(red_pattern, s)\n",
    "    green_max = find_max(green_pattern, s)\n",
    "    blue_max = find_max(blue_pattern, s)\n",
    "    game_power = red_max * green_max * blue_max\n",
    "    total_power += game_power\n",
    "    if red_max <= 12 && green_max <= 13 && blue_max <= 14\n",
    "        game_sum += game_id\n",
    "    end\n",
    "end\n",
    "\n",
    "println(\"part 1\" game_sum)\n",
    "println(\"part 2 : \"total_power)\n"
   ]
  },
  {
   "cell_type": "code",
   "execution_count": 25,
   "metadata": {},
   "outputs": [
    {
     "data": {
      "text/plain": [
       "1"
      ]
     },
     "metadata": {},
     "output_type": "display_data"
    }
   ],
   "source": [
    "part_1(t)"
   ]
  },
  {
   "cell_type": "code",
   "execution_count": 28,
   "metadata": {},
   "outputs": [
    {
     "data": {
      "text/plain": [
       "100-element Vector{String}:\n",
       " \"Game 1: 10 green, 9 blue, 1 red\" ⋯ 21 bytes ⋯ \"green, 6 blue; 8 blue, 12 green\"\n",
       " \"Game 2: 11 red, 7 green, 3 blue\" ⋯ 43 bytes ⋯ \"1 blue; 10 green, 5 blue, 7 red\"\n",
       " \"Game 3: 2 red, 7 green, 1 blue;\" ⋯ 59 bytes ⋯ \"18 red; 10 red, 6 blue, 4 green\"\n",
       " \"Game 4: 2 blue, 5 green, 2 red;\" ⋯ 17 bytes ⋯ \"3 blue, 2 red; 16 green, 2 blue\"\n",
       " \"Game 5: 1 blue, 9 red; 5 blue, \" ⋯ 81 bytes ⋯ \" 6 blue; 4 green, 8 red, 7 blue\"\n",
       " \"Game 6: 1 red, 2 green; 2 red, \" ⋯ 40 bytes ⋯ \" 2 green, 3 red; 1 red, 6 green\"\n",
       " \"Game 7: 9 blue, 14 green, 5 red\" ⋯ 36 bytes ⋯ \" 1 red; 4 blue, 17 green, 4 red\"\n",
       " \"Game 8: 16 blue, 16 green, 8 re\" ⋯ 49 bytes ⋯ \" red; 10 red, 13 green, 13 blue\"\n",
       " \"Game 9: 8 blue, 10 green, 4 red\" ⋯ 89 bytes ⋯ \" blue; 16 green, 13 red, 7 blue\"\n",
       " \"Game 10: 5 green, 2 red, 13 blu\" ⋯ 62 bytes ⋯ \"14 red; 3 red, 4 green, 17 blue\"\n",
       " ⋮\n",
       " \"Game 92: 3 green, 1 blue; 8 red, 5 green; 10 red, 3 green\"\n",
       " \"Game 93: 5 green, 1 blue, 5 red\" ⋯ 57 bytes ⋯ \", 1 blue, 2 red; 6 red, 1 green\"\n",
       " \"Game 94: 3 red, 6 blue, 2 green\" ⋯ 74 bytes ⋯ \"13 blue; 6 blue, 2 green, 8 red\"\n",
       " \"Game 95: 4 red, 3 green, 17 blu\" ⋯ 63 bytes ⋯ \" blue; 11 blue, 2 green, 17 red\"\n",
       " \"Game 96: 3 red, 20 blue, 18 gre\" ⋯ 21 bytes ⋯ \" green; 18 blue, 4 green, 8 red\"\n",
       " \"Game 97: 11 green; 7 red, 8 gre\" ⋯ 38 bytes ⋯ \"7 red; 14 green, 18 red, 2 blue\"\n",
       " \"Game 98: 2 blue, 7 green, 1 red\" ⋯ 70 bytes ⋯ \"12 blue; 5 blue, 4 green, 2 red\"\n",
       " \"Game 99: 2 blue, 13 green; 1 blue; 1 red, 2 blue, 2 green; 1 red, 1 blue\"\n",
       " \"Game 100: 1 red, 14 green; 17 g\" ⋯ 55 bytes ⋯ \"3 blue; 5 green, 11 red, 5 blue\""
      ]
     },
     "metadata": {},
     "output_type": "display_data"
    }
   ],
   "source": [
    "t"
   ]
  },
  {
   "cell_type": "code",
   "execution_count": null,
   "metadata": {},
   "outputs": [],
   "source": []
  }
 ],
 "metadata": {
  "kernelspec": {
   "display_name": "Julia 1.8.1",
   "language": "julia",
   "name": "julia-1.8"
  },
  "language_info": {
   "file_extension": ".jl",
   "mimetype": "application/julia",
   "name": "julia",
   "version": "1.8.1"
  }
 },
 "nbformat": 4,
 "nbformat_minor": 2
}
